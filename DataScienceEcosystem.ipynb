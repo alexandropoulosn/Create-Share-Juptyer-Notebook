{
 "cells": [
  {
   "cell_type": "markdown",
   "id": "401a12e3-70c4-4efc-9633-2e7a3180281b",
   "metadata": {
    "tags": []
   },
   "source": [
    "# Data Science Tools and Ecosystem"
   ]
  },
  {
   "cell_type": "markdown",
   "id": "76e53276-578b-4b28-b2ca-c063c8bf0e89",
   "metadata": {},
   "source": [
    "In this notebook, Data Science Tools and Ecosystem are summarized"
   ]
  },
  {
   "cell_type": "markdown",
   "id": "d866c693-c78e-411e-a3b7-f8b1d166de7f",
   "metadata": {
    "tags": []
   },
   "source": [
    "Some of the popular languages that Data Scientists use are:\n",
    "1. Python\n",
    "2. RSome of the popular languages that Data Scientists use are:Some of the popular languages that Data Scientists use are:\n",
    "3. SQL"
   ]
  },
  {
   "cell_type": "markdown",
   "id": "323a11e3-ac47-40d0-b8e4-0fd7e7db7e39",
   "metadata": {},
   "source": [
    "Some of the popular languages that Data Scientists use are:\n",
    "1. SciPy\n",
    "2. NumPy\n",
    "3. matplotlib"
   ]
  },
  {
   "cell_type": "markdown",
   "id": "18559663-2dba-46e6-a227-a020c78a9a26",
   "metadata": {
    "tags": []
   },
   "source": [
    "|Data Science Tools|\n",
    "|------------------|\n",
    "|RStudio           |\n",
    "|Juptyer Notebooks/Lab|\n",
    "|GitHub            |\n"
   ]
  },
  {
   "cell_type": "markdown",
   "id": "ec10fda8-413d-479a-8f3b-f53cb4193a25",
   "metadata": {},
   "source": [
    "### Below are a few examples of evaluating arithmetic expressions in Python"
   ]
  },
  {
   "cell_type": "code",
   "execution_count": 5,
   "id": "94eeb27e-2869-4d78-a67e-32d0f754293d",
   "metadata": {
    "tags": []
   },
   "outputs": [
    {
     "data": {
      "text/plain": [
       "17"
      ]
     },
     "execution_count": 5,
     "metadata": {},
     "output_type": "execute_result"
    }
   ],
   "source": [
    "(3*4)+5\n",
    "#This is a simple arithmetic expression to multiple then add integers"
   ]
  },
  {
   "cell_type": "code",
   "execution_count": 6,
   "id": "e348be6f-1123-463c-a096-401a48af2d6d",
   "metadata": {
    "tags": []
   },
   "outputs": [
    {
     "data": {
      "text/plain": [
       "3.3333333333333335"
      ]
     },
     "execution_count": 6,
     "metadata": {},
     "output_type": "execute_result"
    }
   ],
   "source": [
    "#CONVERTING MINUTES INTO HOURS\n",
    "200/60\n",
    "#This will convert 200 minutes to hours by dividing by 60"
   ]
  },
  {
   "cell_type": "markdown",
   "id": "184574cb-9085-4dcb-8806-a0dd03ae7ddb",
   "metadata": {},
   "source": [
    "**Objectives:**\n",
    "\n",
    "* Create a Jupyter Noteboo\n",
    "* Create markdown cell with title of the notebook\n",
    "* Create a markdown cell to list data science languag\n",
    "* Create a markdown cell with a table of Data Science tools"
   ]
  },
  {
   "cell_type": "markdown",
   "id": "9ffd06ad-0351-4216-8af4-15645fe90d8b",
   "metadata": {
    "tags": []
   },
   "source": [
    "## Niko Alexandropoulos"
   ]
  },
  {
   "cell_type": "code",
   "execution_count": null,
   "id": "312619e2-805f-450e-ae55-768224c44cd3",
   "metadata": {},
   "outputs": [],
   "source": []
  }
 ],
 "metadata": {
  "kernelspec": {
   "display_name": "Python 3 (ipykernel)",
   "language": "python",
   "name": "python3"
  },
  "language_info": {
   "codemirror_mode": {
    "name": "ipython",
    "version": 3
   },
   "file_extension": ".py",
   "mimetype": "text/x-python",
   "name": "python",
   "nbconvert_exporter": "python",
   "pygments_lexer": "ipython3",
   "version": "3.11.4"
  }
 },
 "nbformat": 4,
 "nbformat_minor": 5
}
